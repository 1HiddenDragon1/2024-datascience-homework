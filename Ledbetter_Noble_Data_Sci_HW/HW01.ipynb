{
 "cells": [
  {
   "cell_type": "markdown",
   "id": "41a06a80",
   "metadata": {},
   "source": [
    "# Your Data\n",
    "Noble Ledbetter\n",
    "u0967666@utah.edu\n",
    "u0967666"
   ]
  },
  {
   "cell_type": "markdown",
   "id": "cbd222c6",
   "metadata": {},
   "source": [
    "# Problem 1: Second Smallest Element"
   ]
  },
  {
   "cell_type": "code",
   "execution_count": 3,
   "id": "db2babe3",
   "metadata": {},
   "outputs": [
    {
     "name": "stdout",
     "output_type": "stream",
     "text": [
      "2\n"
     ]
    }
   ],
   "source": [
    "smallest_num = 1\n",
    "second_smallest_num = 3\n",
    "num = 2\n",
    "if second_smallest_num > num > smallest_num:\n",
    "    second_smallest_num = num\n",
    "print(second_smallest_num)"
   ]
  },
  {
   "cell_type": "code",
   "execution_count": null,
   "id": "f69acbc6",
   "metadata": {},
   "outputs": [],
   "source": [
    "def get_second_smallest_element(nums):\n",
    "    smallest_num = nums[0]\n",
    "    second_smallest_num = nums[0]\n",
    "    for num in nums:\n",
    "        # go through list and update the smallest number.\n",
    "        # if it is updated then update the second smallest to be the previous largest.\n",
    "        if second_smallest_num > num > smallest_num:\n",
    "            second_smallest_num = num\n",
    "        if num < smallest_num:\n",
    "            second_smallest_num = smallest_num\n",
    "            smallest_num = num\n",
    "    return second_smallest_num"
   ]
  },
  {
   "cell_type": "code",
   "execution_count": 1,
   "id": "5bebe742",
   "metadata": {},
   "outputs": [
    {
     "ename": "NameError",
     "evalue": "name 'get_second_smallest_element' is not defined",
     "output_type": "error",
     "traceback": [
      "\u001b[1;31m---------------------------------------------------------------------------\u001b[0m",
      "\u001b[1;31mNameError\u001b[0m                                 Traceback (most recent call last)",
      "Cell \u001b[1;32mIn[1], line 1\u001b[0m\n\u001b[1;32m----> 1\u001b[0m \u001b[38;5;28mprint\u001b[39m(get_second_smallest_element([\u001b[38;5;241m-\u001b[39m\u001b[38;5;241m15\u001b[39m, \u001b[38;5;241m-\u001b[39m\u001b[38;5;241m112\u001b[39m, \u001b[38;5;241m14\u001b[39m, \u001b[38;5;241m-\u001b[39m\u001b[38;5;241m29\u001b[39m, \u001b[38;5;241m17\u001b[39m, \u001b[38;5;241m360\u001b[39m, \u001b[38;5;241m86\u001b[39m, \u001b[38;5;241m128\u001b[39m, \u001b[38;5;241m-\u001b[39m\u001b[38;5;241m12\u001b[39m, \u001b[38;5;241m0\u001b[39m, \u001b[38;5;241m23\u001b[39m]))\n",
      "\u001b[1;31mNameError\u001b[0m: name 'get_second_smallest_element' is not defined"
     ]
    }
   ],
   "source": [
    "print(get_second_smallest_element([-15, -112, 14, -29, 17, 360, 86, 128, -12, 0, 23]))"
   ]
  }
 ],
 "metadata": {
  "kernelspec": {
   "display_name": "Python 3 (ipykernel)",
   "language": "python",
   "name": "python3"
  },
  "language_info": {
   "codemirror_mode": {
    "name": "ipython",
    "version": 3
   },
   "file_extension": ".py",
   "mimetype": "text/x-python",
   "name": "python",
   "nbconvert_exporter": "python",
   "pygments_lexer": "ipython3",
   "version": "3.11.5"
  }
 },
 "nbformat": 4,
 "nbformat_minor": 5
}
