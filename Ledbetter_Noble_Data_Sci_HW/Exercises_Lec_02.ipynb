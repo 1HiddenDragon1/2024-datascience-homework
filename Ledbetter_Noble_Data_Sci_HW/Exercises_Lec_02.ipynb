{
 "cells": [
  {
   "cell_type": "markdown",
   "id": "e53925ff",
   "metadata": {},
   "source": [
    "# Exercise 1: Data types and operators"
   ]
  },
  {
   "cell_type": "code",
   "execution_count": null,
   "id": "8e7ec038",
   "metadata": {},
   "outputs": [],
   "source": [
    "a = 5\n",
    "b = 2.5\n",
    "c = a + b\n",
    "type(c)"
   ]
  },
  {
   "cell_type": "code",
   "execution_count": null,
   "id": "217627fb",
   "metadata": {},
   "outputs": [],
   "source": [
    "b = '2.5'\n",
    "type(b)"
   ]
  },
  {
   "cell_type": "code",
   "execution_count": null,
   "id": "f3e8c568",
   "metadata": {},
   "outputs": [],
   "source": [
    "a = 'Fire'\n",
    "b = 'ball'\n",
    "print(a+b)"
   ]
  },
  {
   "cell_type": "code",
   "execution_count": null,
   "id": "bc552a09",
   "metadata": {},
   "outputs": [],
   "source": [
    "a = 'Fire'\n",
    "b = 2\n",
    "print(a+b)"
   ]
  },
  {
   "cell_type": "markdown",
   "id": "1a0dffa9",
   "metadata": {},
   "source": [
    "# Exercise 2: Running programs"
   ]
  },
  {
   "cell_type": "code",
   "execution_count": null,
   "id": "7da720f9",
   "metadata": {},
   "outputs": [],
   "source": [
    "def double_number(a):\n",
    "    # btw, here is a comment! Use the # symbol to add comments or temporarily remove code\n",
    "    # shorthand operator for 'a = a * 2'\n",
    "    a *= 2\n",
    "    return a\n",
    "\n",
    "print(double_number(3))\n",
    "print(double_number(14.22))"
   ]
  },
  {
   "cell_type": "code",
   "execution_count": null,
   "id": "6216a647",
   "metadata": {},
   "outputs": [],
   "source": [
    "def double_number(a):\n",
    "    a += a\n",
    "    return a\n",
    "\n",
    "print(double_number(3))\n",
    "print(double_number(14.22))"
   ]
  },
  {
   "cell_type": "code",
   "execution_count": 4,
   "id": "c937c571",
   "metadata": {},
   "outputs": [
    {
     "ename": "IndentationError",
     "evalue": "unindent does not match any outer indentation level (<tokenize>, line 5)",
     "output_type": "error",
     "traceback": [
      "\u001b[1;36m  File \u001b[1;32m<tokenize>:5\u001b[1;36m\u001b[0m\n\u001b[1;33m    return a\u001b[0m\n\u001b[1;37m    ^\u001b[0m\n\u001b[1;31mIndentationError\u001b[0m\u001b[1;31m:\u001b[0m unindent does not match any outer indentation level\n"
     ]
    }
   ],
   "source": [
    "def double_number(a):\n",
    "    # btw, here is a comment! Use the # symbol to add comments or temporarily remove code\n",
    "    # shorthand operator for 'a = a * 2'\n",
    "        a *= 2\n",
    "    return a\n",
    "\n",
    "print(double_number(3))\n",
    "print(double_number(14.22))"
   ]
  },
  {
   "cell_type": "markdown",
   "id": "d244551a",
   "metadata": {},
   "source": [
    "# Exercise 3: Creating Cells, Executing code"
   ]
  },
  {
   "cell_type": "code",
   "execution_count": null,
   "id": "df8d8541",
   "metadata": {},
   "outputs": [],
   "source": [
    "name = 'Noble'\n",
    "major = 'Biomedical Engineering'\n",
    "age = '26 years, 312 months, or 9490 days'"
   ]
  },
  {
   "cell_type": "markdown",
   "id": "142ad29c",
   "metadata": {},
   "source": [
    "# Exercise 4: Functions"
   ]
  },
  {
   "cell_type": "code",
   "execution_count": null,
   "id": "6ce4bb42",
   "metadata": {},
   "outputs": [],
   "source": [
    "divide_num = 3\n",
    "\n",
    "def multiply_and_divide(var1, var2):\n",
    "    multiplied_value = var1*var2\n",
    "    final_value = multiplied_value/divide_num\n",
    "    return final_value\n",
    "\n",
    "print(multiply_and_divide(1,2))\n",
    "print(multiply_and_divide(3,5))\n",
    "print(multiply_and_divide(6,10))"
   ]
  }
 ],
 "metadata": {
  "kernelspec": {
   "display_name": "Python 3 (ipykernel)",
   "language": "python",
   "name": "python3"
  },
  "language_info": {
   "codemirror_mode": {
    "name": "ipython",
    "version": 3
   },
   "file_extension": ".py",
   "mimetype": "text/x-python",
   "name": "python",
   "nbconvert_exporter": "python",
   "pygments_lexer": "ipython3",
   "version": "3.11.5"
  }
 },
 "nbformat": 4,
 "nbformat_minor": 5
}
